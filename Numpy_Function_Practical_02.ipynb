{
  "nbformat": 4,
  "nbformat_minor": 0,
  "metadata": {
    "colab": {
      "provenance": []
    },
    "kernelspec": {
      "name": "python3",
      "display_name": "Python 3"
    },
    "language_info": {
      "name": "python"
    }
  },
  "cells": [
    {
      "cell_type": "code",
      "execution_count": null,
      "metadata": {
        "id": "-vcO1P6t3A5G"
      },
      "outputs": [],
      "source": [
        "import pandas as pd\n",
        "import numpy as np"
      ]
    },
    {
      "cell_type": "code",
      "source": [
        "#Create an Array\n",
        "print(np.array([1,2,3,4]))\n",
        "print(np.array(pd.Series([1,2,3,4])))"
      ],
      "metadata": {
        "colab": {
          "base_uri": "https://localhost:8080/"
        },
        "id": "Hwg5ONP33y0H",
        "outputId": "1e60ab2c-3103-4e51-8ad5-4ee38c12e851"
      },
      "execution_count": null,
      "outputs": [
        {
          "output_type": "stream",
          "name": "stdout",
          "text": [
            "[1 2 3 4]\n",
            "[1 2 3 4]\n"
          ]
        }
      ]
    },
    {
      "cell_type": "code",
      "source": [
        "##Arange:It creates an array in range with a specific increment\n",
        "np.arange(2,10,2)"
      ],
      "metadata": {
        "colab": {
          "base_uri": "https://localhost:8080/"
        },
        "id": "e9rBDuj64PDE",
        "outputId": "6d0c1711-d68f-4da8-b48b-50f90d1be574"
      },
      "execution_count": null,
      "outputs": [
        {
          "output_type": "execute_result",
          "data": {
            "text/plain": [
              "array([2, 4, 6, 8])"
            ]
          },
          "metadata": {},
          "execution_count": 21
        }
      ]
    },
    {
      "cell_type": "code",
      "source": [
        "np.arange(0,20,5)"
      ],
      "metadata": {
        "colab": {
          "base_uri": "https://localhost:8080/"
        },
        "id": "A8ed7NCq4upv",
        "outputId": "6138e55b-5f70-49f5-c12d-a40ff10c1135"
      },
      "execution_count": null,
      "outputs": [
        {
          "output_type": "execute_result",
          "data": {
            "text/plain": [
              "array([ 0,  5, 10, 15])"
            ]
          },
          "metadata": {},
          "execution_count": 22
        }
      ]
    },
    {
      "cell_type": "code",
      "source": [
        "##Linespace :it creates an array with equidistant element\n",
        "print(np.linspace(0,20,10))\n",
        "print(np.linspace(0,1,5))"
      ],
      "metadata": {
        "colab": {
          "base_uri": "https://localhost:8080/"
        },
        "id": "9gx0w-jZ5NEe",
        "outputId": "20c54caf-1739-41b1-9b1b-a5efffbf0722"
      },
      "execution_count": null,
      "outputs": [
        {
          "output_type": "stream",
          "name": "stdout",
          "text": [
            "[ 0.          2.22222222  4.44444444  6.66666667  8.88888889 11.11111111\n",
            " 13.33333333 15.55555556 17.77777778 20.        ]\n",
            "[0.   0.25 0.5  0.75 1.  ]\n"
          ]
        }
      ]
    },
    {
      "cell_type": "code",
      "source": [
        "##Unique: it returns the nunber of uique elements in an array\n",
        "a=np.array([1,1,1,2,2,3])\n",
        "print(np.unique(a))\n",
        "##Its shows how many unique elements in array and how many times it occured\n",
        "print(np.unique(a,return_counts=True))"
      ],
      "metadata": {
        "colab": {
          "base_uri": "https://localhost:8080/"
        },
        "id": "FykfG5hP6mYG",
        "outputId": "27086af5-cad3-4080-f01b-7e37159611f7"
      },
      "execution_count": null,
      "outputs": [
        {
          "output_type": "stream",
          "name": "stdout",
          "text": [
            "[1 2 3]\n",
            "(array([1, 2, 3]), array([3, 2, 1]))\n"
          ]
        }
      ]
    },
    {
      "cell_type": "code",
      "source": [
        "##Argmax and Argmin return the indices of maximum and minimum values along an axis\n",
        "A=np.random.randint(10,size=(4,3))\n",
        "A"
      ],
      "metadata": {
        "colab": {
          "base_uri": "https://localhost:8080/"
        },
        "id": "OSxCmnIc8lKO",
        "outputId": "aafb2585-3888-4c24-bd02-8033eb37311a"
      },
      "execution_count": null,
      "outputs": [
        {
          "output_type": "execute_result",
          "data": {
            "text/plain": [
              "array([[9, 1, 1],\n",
              "       [8, 3, 8],\n",
              "       [5, 0, 6],\n",
              "       [7, 0, 1]])"
            ]
          },
          "metadata": {},
          "execution_count": 27
        }
      ]
    },
    {
      "cell_type": "code",
      "source": [
        "##Argmax with axis=1 will return the indices of the maximum values in each row\n",
        "np.argmax(A,axis=1)"
      ],
      "metadata": {
        "colab": {
          "base_uri": "https://localhost:8080/"
        },
        "id": "qoLxUrnj9bWZ",
        "outputId": "cdeae70b-b3c5-4dcd-b45c-f790a3127445"
      },
      "execution_count": null,
      "outputs": [
        {
          "output_type": "execute_result",
          "data": {
            "text/plain": [
              "array([0, 0, 2, 0])"
            ]
          },
          "metadata": {},
          "execution_count": 30
        }
      ]
    },
    {
      "cell_type": "code",
      "source": [
        "##Argmax with axis=0 will return the indices of the minimum values in each row\n",
        "np.argmin(A,axis=0)"
      ],
      "metadata": {
        "colab": {
          "base_uri": "https://localhost:8080/"
        },
        "id": "JfLBESpu-Tgf",
        "outputId": "b6792e98-510d-4b93-e115-e58b5effeab1"
      },
      "execution_count": null,
      "outputs": [
        {
          "output_type": "execute_result",
          "data": {
            "text/plain": [
              "array([2, 2, 0])"
            ]
          },
          "metadata": {},
          "execution_count": 31
        }
      ]
    },
    {
      "cell_type": "code",
      "source": [
        "##Random.random : It creates an array with random floats between 0 and 1. same operation can be done with the random_sample function as well\n",
        "np.random.random(size=4)\n"
      ],
      "metadata": {
        "colab": {
          "base_uri": "https://localhost:8080/"
        },
        "id": "I6vM6WnN9GcL",
        "outputId": "31087f95-1447-45e8-ada6-a45faefb757a"
      },
      "execution_count": null,
      "outputs": [
        {
          "output_type": "execute_result",
          "data": {
            "text/plain": [
              "array([0.42893609, 0.93200353, 0.17942227, 0.97798547])"
            ]
          },
          "metadata": {},
          "execution_count": 32
        }
      ]
    },
    {
      "cell_type": "code",
      "source": [
        "np.random.random_sample(size=4)"
      ],
      "metadata": {
        "colab": {
          "base_uri": "https://localhost:8080/"
        },
        "id": "of3LpgoO-pMZ",
        "outputId": "67102e79-3da4-4af2-ba53-581ca5971ac7"
      },
      "execution_count": null,
      "outputs": [
        {
          "output_type": "execute_result",
          "data": {
            "text/plain": [
              "array([0.18825912, 0.91891027, 0.0644737 , 0.74627034])"
            ]
          },
          "metadata": {},
          "execution_count": 33
        }
      ]
    },
    {
      "cell_type": "code",
      "source": [
        "##Random.randint :it creates array with an integer in any shape\n",
        "np.random.randint(0,5,size=5)"
      ],
      "metadata": {
        "colab": {
          "base_uri": "https://localhost:8080/"
        },
        "id": "8kI3Sjeg-2_w",
        "outputId": "8646511b-de3f-4a59-fee3-3f01b4d76b6e"
      },
      "execution_count": null,
      "outputs": [
        {
          "output_type": "execute_result",
          "data": {
            "text/plain": [
              "array([1, 0, 0, 4, 1])"
            ]
          },
          "metadata": {},
          "execution_count": 34
        }
      ]
    },
    {
      "cell_type": "code",
      "source": [
        "np.random.randint(10,size=(3,4))"
      ],
      "metadata": {
        "colab": {
          "base_uri": "https://localhost:8080/"
        },
        "id": "9qr0qTZY_LJC",
        "outputId": "aa5c2595-a85f-496f-8ea6-8951a9150f59"
      },
      "execution_count": null,
      "outputs": [
        {
          "output_type": "execute_result",
          "data": {
            "text/plain": [
              "array([[4, 9, 7, 7],\n",
              "       [9, 9, 1, 3],\n",
              "       [2, 4, 3, 9]])"
            ]
          },
          "metadata": {},
          "execution_count": 35
        }
      ]
    },
    {
      "cell_type": "code",
      "source": [
        "##Random.randn: It returns a sample or samples from the standard normal distribution(i.e zero mean and unit variance)\n",
        "a=np.random.randn(10000)\n",
        "print(a.mean())\n",
        "print(a.var())"
      ],
      "metadata": {
        "colab": {
          "base_uri": "https://localhost:8080/"
        },
        "id": "AumFY43I_TCH",
        "outputId": "ca5ebcbb-9f64-48fc-cc72-f9e9d5463796"
      },
      "execution_count": null,
      "outputs": [
        {
          "output_type": "stream",
          "name": "stdout",
          "text": [
            "-0.006181211862023628\n",
            "1.0074852813662165\n"
          ]
        }
      ]
    },
    {
      "cell_type": "code",
      "source": [
        "##Plot the values to observe the standard normal distribution\n",
        "pd.Series(a).plot(kind='kde',figsize=(8,5))"
      ],
      "metadata": {
        "colab": {
          "base_uri": "https://localhost:8080/",
          "height": 338
        },
        "id": "iM8mjvt__r8U",
        "outputId": "02eb997d-245a-470f-b9fc-a91a43001ccf"
      },
      "execution_count": null,
      "outputs": [
        {
          "output_type": "execute_result",
          "data": {
            "text/plain": [
              "<matplotlib.axes._subplots.AxesSubplot at 0x7f6e742ab7c0>"
            ]
          },
          "metadata": {},
          "execution_count": 40
        },
        {
          "output_type": "display_data",
          "data": {
            "text/plain": [
              "<Figure size 576x360 with 1 Axes>"
            ],
            "image/png": "[encoded data removed]"
          },
          "metadata": {
            "needs_background": "light"
          }
        }
      ]
    },
    {
      "cell_type": "code",
      "source": [
        "##Random.shuffle :It modify the sequence of an array by shuffling its element\n",
        "a=np.array([0,1,2,3,4,5,6,7,8,9])\n",
        "print(\"Before Shuffle:\",a)\n",
        "np.random.shuffle(a)\n",
        "print(\"After Shuffle:\",a)"
      ],
      "metadata": {
        "colab": {
          "base_uri": "https://localhost:8080/"
        },
        "id": "aqMRYVfGAN0N",
        "outputId": "a2971417-1a2c-4807-a3a8-d979232ac67e"
      },
      "execution_count": null,
      "outputs": [
        {
          "output_type": "stream",
          "name": "stdout",
          "text": [
            "Before Shuffle: [0 1 2 3 4 5 6 7 8 9]\n",
            "After Shuffle: [7 2 1 3 9 6 8 5 0 4]\n"
          ]
        }
      ]
    },
    {
      "cell_type": "code",
      "source": [
        "##Reshape :It changes the shape of an array\n",
        "A=np.random.randint(10,size=(3,4))\n",
        "A"
      ],
      "metadata": {
        "colab": {
          "base_uri": "https://localhost:8080/"
        },
        "id": "llIHyi1_Aw90",
        "outputId": "7460f397-149e-47ab-dfa0-15043f075868"
      },
      "execution_count": null,
      "outputs": [
        {
          "output_type": "execute_result",
          "data": {
            "text/plain": [
              "array([[4, 6, 6, 7],\n",
              "       [2, 3, 0, 8],\n",
              "       [0, 3, 9, 0]])"
            ]
          },
          "metadata": {},
          "execution_count": 42
        }
      ]
    },
    {
      "cell_type": "code",
      "source": [
        "A.reshape(2,6)"
      ],
      "metadata": {
        "colab": {
          "base_uri": "https://localhost:8080/"
        },
        "id": "LXC0GQYMBBVi",
        "outputId": "6a245f9d-5bbb-4c6b-b065-8c0032813edf"
      },
      "execution_count": null,
      "outputs": [
        {
          "output_type": "execute_result",
          "data": {
            "text/plain": [
              "array([[4, 6, 6, 7, 2, 3],\n",
              "       [0, 8, 0, 3, 9, 0]])"
            ]
          },
          "metadata": {},
          "execution_count": 43
        }
      ]
    },
    {
      "cell_type": "code",
      "source": [
        "##specify the size in one dimension and pass -1 for the other dimension\n",
        "A.reshape(-1,4)"
      ],
      "metadata": {
        "colab": {
          "base_uri": "https://localhost:8080/"
        },
        "id": "A78D1ltpBK0z",
        "outputId": "9c06f275-3db6-4708-812f-03315c7580ce"
      },
      "execution_count": null,
      "outputs": [
        {
          "output_type": "execute_result",
          "data": {
            "text/plain": [
              "array([[4, 6, 6, 7],\n",
              "       [2, 3, 0, 8],\n",
              "       [0, 3, 9, 0]])"
            ]
          },
          "metadata": {},
          "execution_count": 44
        }
      ]
    },
    {
      "cell_type": "code",
      "source": [
        "##Reshape is also used to increase the dimension of an array\n",
        "a=np.array([1,2,3,4])\n",
        "print(f'The array a has {a.ndim} dimension')\n",
        "print(a.reshape(-1,1))\n",
        "print(f'The reshaped array a has {a.reshape(-1,1).ndim} dimensions')"
      ],
      "metadata": {
        "colab": {
          "base_uri": "https://localhost:8080/"
        },
        "id": "5AL_MYqPBlBZ",
        "outputId": "a905d99d-7574-411d-8206-1e62997bb2cb"
      },
      "execution_count": null,
      "outputs": [
        {
          "output_type": "stream",
          "name": "stdout",
          "text": [
            "The array a has 1 dimension\n",
            "[[1]\n",
            " [2]\n",
            " [3]\n",
            " [4]]\n",
            "The reshaped array a has 2 dimensions\n"
          ]
        }
      ]
    },
    {
      "cell_type": "code",
      "source": [
        "##Expand_dims :It expands the dimension of an array\n",
        "a=np.array([1,2,3,4])\n",
        "print(\"Before Expand Dimension:\",a.ndim)\n",
        "print(\"After Expand Dimension:\",np.expand_dims(a,axis=1).ndim)"
      ],
      "metadata": {
        "colab": {
          "base_uri": "https://localhost:8080/"
        },
        "id": "oDn7vx16DGps",
        "outputId": "d48639d8-f1d0-4fc1-808b-eb2eea68b905"
      },
      "execution_count": null,
      "outputs": [
        {
          "output_type": "stream",
          "name": "stdout",
          "text": [
            "Before Expand Dimension: 1\n",
            "After Expand Dimension: 2\n"
          ]
        }
      ]
    },
    {
      "cell_type": "code",
      "source": [
        "##Count_nonzero:returns the count of non-zero element in an array\n",
        "b=np.random.randint(0,5,size=20)\n",
        "np.count_nonzero(b)"
      ],
      "metadata": {
        "colab": {
          "base_uri": "https://localhost:8080/"
        },
        "id": "94V3fyDNEx7P",
        "outputId": "f789b42f-6de8-446e-9133-acdf5e876aac"
      },
      "execution_count": null,
      "outputs": [
        {
          "output_type": "execute_result",
          "data": {
            "text/plain": [
              "15"
            ]
          },
          "metadata": {},
          "execution_count": 55
        }
      ]
    },
    {
      "cell_type": "code",
      "source": [
        "##Argwhere:return the indices of nonzero element in an array\n",
        "b=np.random.randint(3,size=(2,3))\n",
        "b"
      ],
      "metadata": {
        "colab": {
          "base_uri": "https://localhost:8080/"
        },
        "id": "79P3tSrxF7uh",
        "outputId": "897d77b9-ab78-4c4d-e927-b1368e0cd654"
      },
      "execution_count": null,
      "outputs": [
        {
          "output_type": "execute_result",
          "data": {
            "text/plain": [
              "array([[0, 2, 1],\n",
              "       [2, 2, 1]])"
            ]
          },
          "metadata": {},
          "execution_count": 56
        }
      ]
    },
    {
      "cell_type": "code",
      "source": [
        "np.argwhere(b)"
      ],
      "metadata": {
        "colab": {
          "base_uri": "https://localhost:8080/"
        },
        "id": "UXl1vUtKGWPZ",
        "outputId": "832fde56-f0aa-4115-9144-ed5e06b153a6"
      },
      "execution_count": null,
      "outputs": [
        {
          "output_type": "execute_result",
          "data": {
            "text/plain": [
              "array([[0, 1],\n",
              "       [0, 2],\n",
              "       [1, 0],\n",
              "       [1, 1],\n",
              "       [1, 2]])"
            ]
          },
          "metadata": {},
          "execution_count": 57
        }
      ]
    },
    {
      "cell_type": "code",
      "source": [
        "##Zeros,Ones,Full :Create array with zero,ones or a specific value\n",
        "np.zeros(3)"
      ],
      "metadata": {
        "colab": {
          "base_uri": "https://localhost:8080/"
        },
        "id": "5NLUb2OpGZZ5",
        "outputId": "218a664a-93a2-4c04-8d17-c987a37f2aca"
      },
      "execution_count": null,
      "outputs": [
        {
          "output_type": "execute_result",
          "data": {
            "text/plain": [
              "array([0., 0., 0.])"
            ]
          },
          "metadata": {},
          "execution_count": 58
        }
      ]
    },
    {
      "cell_type": "code",
      "source": [
        "np.ones((3,3),dtype='int32')"
      ],
      "metadata": {
        "colab": {
          "base_uri": "https://localhost:8080/"
        },
        "id": "ubkEBRUpGxzW",
        "outputId": "f496292e-cc99-47d9-efa3-33f1b6c14b1c"
      },
      "execution_count": null,
      "outputs": [
        {
          "output_type": "execute_result",
          "data": {
            "text/plain": [
              "array([[1, 1, 1],\n",
              "       [1, 1, 1],\n",
              "       [1, 1, 1]], dtype=int32)"
            ]
          },
          "metadata": {},
          "execution_count": 62
        }
      ]
    },
    {
      "cell_type": "code",
      "source": [
        "np.full((2,3),fill_value=2)\n"
      ],
      "metadata": {
        "colab": {
          "base_uri": "https://localhost:8080/"
        },
        "id": "H85pmLS3G694",
        "outputId": "b8ef4ecb-96ef-4a86-a6d0-556b1c053552"
      },
      "execution_count": null,
      "outputs": [
        {
          "output_type": "execute_result",
          "data": {
            "text/plain": [
              "array([[2, 2, 2],\n",
              "       [2, 2, 2]])"
            ]
          },
          "metadata": {},
          "execution_count": 63
        }
      ]
    },
    {
      "cell_type": "code",
      "source": [
        "##Eye and Identify:Creates identify matrix with a specified dimension \n",
        "np.eye(4)"
      ],
      "metadata": {
        "colab": {
          "base_uri": "https://localhost:8080/"
        },
        "id": "qeLjuhWBHTm_",
        "outputId": "a9c51130-8634-486a-aeb4-23a279a92d80"
      },
      "execution_count": null,
      "outputs": [
        {
          "output_type": "execute_result",
          "data": {
            "text/plain": [
              "array([[1., 0., 0., 0.],\n",
              "       [0., 1., 0., 0.],\n",
              "       [0., 0., 1., 0.],\n",
              "       [0., 0., 0., 1.]])"
            ]
          },
          "metadata": {},
          "execution_count": 64
        }
      ]
    },
    {
      "cell_type": "code",
      "source": [
        "np.identity(3)"
      ],
      "metadata": {
        "colab": {
          "base_uri": "https://localhost:8080/"
        },
        "id": "YfkKpnLuHkhD",
        "outputId": "1a0ef556-6142-40db-951b-f60c78e4544a"
      },
      "execution_count": null,
      "outputs": [
        {
          "output_type": "execute_result",
          "data": {
            "text/plain": [
              "array([[1., 0., 0.],\n",
              "       [0., 1., 0.],\n",
              "       [0., 0., 1.]])"
            ]
          },
          "metadata": {},
          "execution_count": 67
        }
      ]
    },
    {
      "cell_type": "code",
      "source": [
        "##Ravel :returns a flattened array\n",
        "a=np.random.randint(10,size=(3,3))\n",
        "a"
      ],
      "metadata": {
        "colab": {
          "base_uri": "https://localhost:8080/"
        },
        "id": "z-S6k-y0HsVD",
        "outputId": "b3d8ce6a-2b4b-4024-8d9f-afa312e879aa"
      },
      "execution_count": null,
      "outputs": [
        {
          "output_type": "execute_result",
          "data": {
            "text/plain": [
              "array([[0, 8, 7],\n",
              "       [3, 7, 6],\n",
              "       [2, 9, 6]])"
            ]
          },
          "metadata": {},
          "execution_count": 68
        }
      ]
    },
    {
      "cell_type": "code",
      "source": [
        "np.ravel(a)"
      ],
      "metadata": {
        "colab": {
          "base_uri": "https://localhost:8080/"
        },
        "id": "ocIGxDL3IFj7",
        "outputId": "6bedf3b2-8af9-4d7c-acdc-9563d2b125d4"
      },
      "execution_count": null,
      "outputs": [
        {
          "output_type": "execute_result",
          "data": {
            "text/plain": [
              "array([0, 8, 7, 3, 7, 6, 2, 9, 6])"
            ]
          },
          "metadata": {},
          "execution_count": 69
        }
      ]
    },
    {
      "cell_type": "code",
      "source": [
        "##Ravel function also allows columnwise concatenation using order parameter\n",
        "np.ravel(a,order='F')"
      ],
      "metadata": {
        "colab": {
          "base_uri": "https://localhost:8080/"
        },
        "id": "1yOoUZsCIJzx",
        "outputId": "aaa4b405-7169-4265-ca69-1b7b71ad22a3"
      },
      "execution_count": null,
      "outputs": [
        {
          "output_type": "execute_result",
          "data": {
            "text/plain": [
              "array([0, 3, 2, 8, 7, 9, 7, 6, 6])"
            ]
          },
          "metadata": {},
          "execution_count": 70
        }
      ]
    },
    {
      "cell_type": "code",
      "source": [
        "##Hsplit and Vsplit:split array vertically(vsplit) or horizontally(hsplit)\n",
        "a=np.random.randint(10,size=(4,4))\n",
        "a"
      ],
      "metadata": {
        "colab": {
          "base_uri": "https://localhost:8080/"
        },
        "id": "QF76mJonIaro",
        "outputId": "2db8910f-e40a-45b4-e05d-ef60d7f2cf7a"
      },
      "execution_count": null,
      "outputs": [
        {
          "output_type": "execute_result",
          "data": {
            "text/plain": [
              "array([[7, 2, 1, 2],\n",
              "       [4, 0, 7, 3],\n",
              "       [6, 5, 6, 1],\n",
              "       [8, 2, 1, 5]])"
            ]
          },
          "metadata": {},
          "execution_count": 71
        }
      ]
    },
    {
      "cell_type": "code",
      "source": [
        "np.hsplit(a,2)[0]"
      ],
      "metadata": {
        "colab": {
          "base_uri": "https://localhost:8080/"
        },
        "id": "KydjJ7LDI3TO",
        "outputId": "07c50a7f-25d9-473f-d476-67e495651eb9"
      },
      "execution_count": null,
      "outputs": [
        {
          "output_type": "execute_result",
          "data": {
            "text/plain": [
              "array([[7, 2],\n",
              "       [4, 0],\n",
              "       [6, 5],\n",
              "       [8, 2]])"
            ]
          },
          "metadata": {},
          "execution_count": 72
        }
      ]
    },
    {
      "cell_type": "code",
      "source": [
        "np.hsplit(a,2)[1]"
      ],
      "metadata": {
        "colab": {
          "base_uri": "https://localhost:8080/"
        },
        "id": "qSGzh-OJJBo5",
        "outputId": "df1568f1-0e3f-46d4-8e83-78b7102c39ff"
      },
      "execution_count": null,
      "outputs": [
        {
          "output_type": "execute_result",
          "data": {
            "text/plain": [
              "array([[1, 2],\n",
              "       [7, 3],\n",
              "       [6, 1],\n",
              "       [1, 5]])"
            ]
          },
          "metadata": {},
          "execution_count": 73
        }
      ]
    },
    {
      "cell_type": "code",
      "source": [
        "np.vsplit(a,2)[0]"
      ],
      "metadata": {
        "colab": {
          "base_uri": "https://localhost:8080/"
        },
        "id": "LjrU5uM1JJQ3",
        "outputId": "089aab58-e3ef-48a0-ba9c-395a15a6cd4c"
      },
      "execution_count": null,
      "outputs": [
        {
          "output_type": "execute_result",
          "data": {
            "text/plain": [
              "array([[7, 2, 1, 2],\n",
              "       [4, 0, 7, 3]])"
            ]
          },
          "metadata": {},
          "execution_count": 74
        }
      ]
    },
    {
      "cell_type": "code",
      "source": [
        "np.vsplit(a,2)[1]"
      ],
      "metadata": {
        "colab": {
          "base_uri": "https://localhost:8080/"
        },
        "id": "LSRMGW6xJVAX",
        "outputId": "e43c40a6-fa00-4cc0-d866-481ecf844fa3"
      },
      "execution_count": null,
      "outputs": [
        {
          "output_type": "execute_result",
          "data": {
            "text/plain": [
              "array([[6, 5, 6, 1],\n",
              "       [8, 2, 1, 5]])"
            ]
          },
          "metadata": {},
          "execution_count": 75
        }
      ]
    },
    {
      "cell_type": "code",
      "source": [
        "##Hstack and Vstack :They stack arrays horizontally(column-wise) and vertically(rows on top of each other)\n",
        "a=np.array([1,1,1,2])\n",
        "b=np.array([2,3,5,6])\n",
        "np.vstack((a,b))"
      ],
      "metadata": {
        "colab": {
          "base_uri": "https://localhost:8080/"
        },
        "id": "8yAOAkf7JXiq",
        "outputId": "4a49f356-f61a-4925-cd58-c56c270088f4"
      },
      "execution_count": null,
      "outputs": [
        {
          "output_type": "execute_result",
          "data": {
            "text/plain": [
              "array([[1, 1, 1, 2],\n",
              "       [2, 3, 5, 6]])"
            ]
          },
          "metadata": {},
          "execution_count": 76
        }
      ]
    },
    {
      "cell_type": "code",
      "source": [
        "np.hstack((a,b))"
      ],
      "metadata": {
        "colab": {
          "base_uri": "https://localhost:8080/"
        },
        "id": "vQYCzQ9JKE9T",
        "outputId": "6a3b19cf-3bd3-42eb-ba1a-f0b21a992ae1"
      },
      "execution_count": null,
      "outputs": [
        {
          "output_type": "execute_result",
          "data": {
            "text/plain": [
              "array([1, 1, 1, 2, 2, 3, 5, 6])"
            ]
          },
          "metadata": {},
          "execution_count": 78
        }
      ]
    },
    {
      "cell_type": "code",
      "source": [
        "##Transpose:It transposes an array\n",
        "a=np.random.randint(5,size=(3,4))\n",
        "a"
      ],
      "metadata": {
        "colab": {
          "base_uri": "https://localhost:8080/"
        },
        "id": "rbNTrbpgKH5N",
        "outputId": "ac1cf4ef-2576-44a1-880e-759c30031127"
      },
      "execution_count": null,
      "outputs": [
        {
          "output_type": "execute_result",
          "data": {
            "text/plain": [
              "array([[4, 0, 2, 3],\n",
              "       [2, 3, 1, 0],\n",
              "       [1, 3, 0, 3]])"
            ]
          },
          "metadata": {},
          "execution_count": 80
        }
      ]
    },
    {
      "cell_type": "code",
      "source": [
        "a.transpose()"
      ],
      "metadata": {
        "colab": {
          "base_uri": "https://localhost:8080/"
        },
        "id": "Y4AdtoVaKZC_",
        "outputId": "65495c27-df1d-4e9c-a45d-d7efaaf09fe7"
      },
      "execution_count": null,
      "outputs": [
        {
          "output_type": "execute_result",
          "data": {
            "text/plain": [
              "array([[4, 2, 1],\n",
              "       [0, 3, 3],\n",
              "       [2, 1, 0],\n",
              "       [3, 0, 3]])"
            ]
          },
          "metadata": {},
          "execution_count": 81
        }
      ]
    },
    {
      "cell_type": "code",
      "source": [
        "##Abs and Absolute: absolute return the absolute value of elements in an array\n",
        "b=np.random.randint(-5,5,size=(2,3))\n",
        "b"
      ],
      "metadata": {
        "colab": {
          "base_uri": "https://localhost:8080/"
        },
        "id": "_gP8Et7SKdxR",
        "outputId": "2c20891c-1074-416b-9603-03e3a5703a04"
      },
      "execution_count": null,
      "outputs": [
        {
          "output_type": "execute_result",
          "data": {
            "text/plain": [
              "array([[ 1,  3, -1],\n",
              "       [ 1, -3, -1]])"
            ]
          },
          "metadata": {},
          "execution_count": 83
        }
      ]
    },
    {
      "cell_type": "code",
      "source": [
        "np.abs(b)"
      ],
      "metadata": {
        "colab": {
          "base_uri": "https://localhost:8080/"
        },
        "id": "i44fQS8PK0bO",
        "outputId": "53b3d81c-d741-4008-b546-d64c260895ac"
      },
      "execution_count": null,
      "outputs": [
        {
          "output_type": "execute_result",
          "data": {
            "text/plain": [
              "array([[1, 3, 1],\n",
              "       [1, 3, 1]])"
            ]
          },
          "metadata": {},
          "execution_count": 84
        }
      ]
    },
    {
      "cell_type": "code",
      "source": [
        "##Round and Around: round up the floats to a specified number of decimal points\n",
        "a=np.random.random(5)\n",
        "a"
      ],
      "metadata": {
        "colab": {
          "base_uri": "https://localhost:8080/"
        },
        "id": "qLP2N90NK5Fc",
        "outputId": "3f0d63e2-2647-43d3-a307-a217fe8c3f89"
      },
      "execution_count": null,
      "outputs": [
        {
          "output_type": "execute_result",
          "data": {
            "text/plain": [
              "array([0.41753604, 0.40645761, 0.01487124, 0.88566279, 0.27736777])"
            ]
          },
          "metadata": {},
          "execution_count": 85
        }
      ]
    },
    {
      "cell_type": "code",
      "source": [
        "np.around(a,2)"
      ],
      "metadata": {
        "colab": {
          "base_uri": "https://localhost:8080/"
        },
        "id": "dADABU2OLN-G",
        "outputId": "2e3c7499-070b-407d-fdef-cb31d1c6dcbb"
      },
      "execution_count": null,
      "outputs": [
        {
          "output_type": "execute_result",
          "data": {
            "text/plain": [
              "array([0.42, 0.41, 0.01, 0.89, 0.28])"
            ]
          },
          "metadata": {},
          "execution_count": 86
        }
      ]
    },
    {
      "cell_type": "code",
      "source": [
        "np.round(a,2)"
      ],
      "metadata": {
        "colab": {
          "base_uri": "https://localhost:8080/"
        },
        "id": "PTHv0zKYLV-0",
        "outputId": "a49ece40-3d38-4a25-fcaf-b193c95ba51e"
      },
      "execution_count": null,
      "outputs": [
        {
          "output_type": "execute_result",
          "data": {
            "text/plain": [
              "array([0.42, 0.41, 0.01, 0.89, 0.28])"
            ]
          },
          "metadata": {},
          "execution_count": 87
        }
      ]
    },
    {
      "cell_type": "code",
      "source": [],
      "metadata": {
        "id": "yDkVX8gdLYHp"
      },
      "execution_count": null,
      "outputs": []
    }
  ]
}